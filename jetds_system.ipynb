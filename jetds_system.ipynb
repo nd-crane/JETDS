{
 "cells": [
  {
   "cell_type": "markdown",
   "metadata": {},
   "source": [
    "### Modeling Joint Electronics Type Designation System for Knowledge Graph Inferencing"
   ]
  },
  {
   "cell_type": "code",
   "execution_count": 13,
   "metadata": {},
   "outputs": [],
   "source": [
    "import pandas as pd\n",
    "import requests\n",
    "from bs4 import BeautifulSoup\n",
    "import re\n",
    "import numpy as np"
   ]
  },
  {
   "cell_type": "code",
   "execution_count": 16,
   "metadata": {},
   "outputs": [
    {
     "name": "stdout",
     "output_type": "stream",
     "text": [
      "200\n"
     ]
    }
   ],
   "source": [
    "url=\"https://en.wikipedia.org/wiki/Joint_Electronics_Type_Designation_System\"\n",
    "table_class=\"wikitable sortable jquery-tablesorter\"\n",
    "response=requests.get(url)\n",
    "print(response.status_code)"
   ]
  },
  {
   "cell_type": "code",
   "execution_count": 10,
   "metadata": {},
   "outputs": [],
   "source": [
    "# parse data from the html into a beautifulsoup object\n",
    "soup = BeautifulSoup(response.text, 'html.parser')\n",
    "page = requests.get(url)\n",
    "itemLevelTable = soup.find_all('table',{'class':\"wikitable\"})\n"
   ]
  },
  {
   "cell_type": "code",
   "execution_count": 11,
   "metadata": {},
   "outputs": [
    {
     "data": {
      "text/html": [
       "<div>\n",
       "<style scoped>\n",
       "    .dataframe tbody tr th:only-of-type {\n",
       "        vertical-align: middle;\n",
       "    }\n",
       "\n",
       "    .dataframe tbody tr th {\n",
       "        vertical-align: top;\n",
       "    }\n",
       "\n",
       "    .dataframe thead th {\n",
       "        text-align: right;\n",
       "    }\n",
       "</style>\n",
       "<table border=\"1\" class=\"dataframe\">\n",
       "  <thead>\n",
       "    <tr style=\"text-align: right;\">\n",
       "      <th></th>\n",
       "      <th>Item Level</th>\n",
       "      <th>Description</th>\n",
       "      <th>Examples</th>\n",
       "    </tr>\n",
       "  </thead>\n",
       "  <tbody>\n",
       "    <tr>\n",
       "      <th>0</th>\n",
       "      <td>Unit</td>\n",
       "      <td>An item that may be capable of independent ope...</td>\n",
       "      <td>Radio, computer, digital Power Supply, Antenna...</td>\n",
       "    </tr>\n",
       "    <tr>\n",
       "      <th>1</th>\n",
       "      <td>Group</td>\n",
       "      <td>A collection of units or assemblies that are n...</td>\n",
       "      <td>Antenna group may be “used with” or “part of” ...</td>\n",
       "    </tr>\n",
       "    <tr>\n",
       "      <th>2</th>\n",
       "      <td>Set</td>\n",
       "      <td>A unit or units and necessary assemblies, suba...</td>\n",
       "      <td>Radio terminal set or sound measuring set, inc...</td>\n",
       "    </tr>\n",
       "    <tr>\n",
       "      <th>3</th>\n",
       "      <td>Subsystem</td>\n",
       "      <td>A combination of sets, groups, etc., which per...</td>\n",
       "      <td>Intercept-Aerial Guided Missile Subsystem</td>\n",
       "    </tr>\n",
       "    <tr>\n",
       "      <th>4</th>\n",
       "      <td>System</td>\n",
       "      <td>A combination of two or more sets, which may b...</td>\n",
       "      <td>Integrated Shipboard Computer System and a Nav...</td>\n",
       "    </tr>\n",
       "    <tr>\n",
       "      <th>5</th>\n",
       "      <td>Center</td>\n",
       "      <td>A collection of units and items in one locatio...</td>\n",
       "      <td>an Operations Center</td>\n",
       "    </tr>\n",
       "    <tr>\n",
       "      <th>6</th>\n",
       "      <td>Central</td>\n",
       "      <td>A grouping of sets, units or combinations ther...</td>\n",
       "      <td>Operations Central, Central, Communications</td>\n",
       "    </tr>\n",
       "  </tbody>\n",
       "</table>\n",
       "</div>"
      ],
      "text/plain": [
       "  Item Level                                        Description  \\\n",
       "0       Unit  An item that may be capable of independent ope...   \n",
       "1      Group  A collection of units or assemblies that are n...   \n",
       "2        Set  A unit or units and necessary assemblies, suba...   \n",
       "3  Subsystem  A combination of sets, groups, etc., which per...   \n",
       "4     System  A combination of two or more sets, which may b...   \n",
       "5     Center  A collection of units and items in one locatio...   \n",
       "6    Central  A grouping of sets, units or combinations ther...   \n",
       "\n",
       "                                            Examples  \n",
       "0  Radio, computer, digital Power Supply, Antenna...  \n",
       "1  Antenna group may be “used with” or “part of” ...  \n",
       "2  Radio terminal set or sound measuring set, inc...  \n",
       "3          Intercept-Aerial Guided Missile Subsystem  \n",
       "4  Integrated Shipboard Computer System and a Nav...  \n",
       "5                               an Operations Center  \n",
       "6        Operations Central, Central, Communications  "
      ]
     },
     "execution_count": 11,
     "metadata": {},
     "output_type": "execute_result"
    }
   ],
   "source": [
    "df = pd.read_html(str(itemLevelTable))\n",
    "#convert list to dataframe\n",
    "df = pd.DataFrame(df[0])\n",
    "df"
   ]
  },
  {
   "cell_type": "code",
   "execution_count": 17,
   "metadata": {},
   "outputs": [],
   "source": [
    "page = requests.get(url)\n",
    "soup = BeautifulSoup(page.content)"
   ]
  },
  {
   "cell_type": "code",
   "execution_count": null,
   "metadata": {},
   "outputs": [],
   "source": []
  }
 ],
 "metadata": {
  "kernelspec": {
   "display_name": "Python 3.10.6 ('base')",
   "language": "python",
   "name": "python3"
  },
  "language_info": {
   "codemirror_mode": {
    "name": "ipython",
    "version": 3
   },
   "file_extension": ".py",
   "mimetype": "text/x-python",
   "name": "python",
   "nbconvert_exporter": "python",
   "pygments_lexer": "ipython3",
   "version": "3.10.6"
  },
  "orig_nbformat": 4,
  "vscode": {
   "interpreter": {
    "hash": "fb7acf986e83b1beb257f7c617f0599bc3d891e8c7e86dabd4adad7492288b16"
   }
  }
 },
 "nbformat": 4,
 "nbformat_minor": 2
}
